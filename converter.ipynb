{
 "cells": [
  {
   "cell_type": "code",
   "execution_count": 1,
   "metadata": {
    "collapsed": true
   },
   "outputs": [],
   "source": [
    "import numpy as _n\n",
    "import sympy"
   ]
  },
  {
   "cell_type": "code",
   "execution_count": 2,
   "metadata": {
    "collapsed": true
   },
   "outputs": [],
   "source": [
    "replace = [[\"^\",\"**\"],[\"E^\",\"_n.exp\"],[\"Log\",\"_n.log\"],[\"[\",\"(\"],[\"]\",\")\"],\n",
    "           [\"Cos\",\"_n.cos\"],[\"Sin\",\"_n.sin\"],[\"Tan\",\"_n.tan\"],[\"Sqrt\",\"_n.sqrt\"]]"
   ]
  },
  {
   "cell_type": "code",
   "execution_count": 3,
   "metadata": {
    "collapsed": true
   },
   "outputs": [],
   "source": [
    "operators = ['-','+','*','=']"
   ]
  },
  {
   "cell_type": "code",
   "execution_count": 4,
   "metadata": {
    "collapsed": true
   },
   "outputs": [],
   "source": [
    "def mathematica_to_python(string):\n",
    "    for i in replace:\n",
    "        string = string.replace(str(i[0]),str(i[1]))\n",
    "    s = ''\n",
    "    mult = 0\n",
    "    count = 0\n",
    "    py_string = []\n",
    "    for i in string.split(' '):\n",
    "        if i not in operators:\n",
    "            mult += 1\n",
    "        else:\n",
    "            mult = 0\n",
    "        if mult == 2:\n",
    "            py_string = _n.append(py_string, '*')\n",
    "            mult = 1\n",
    "        elif  mult == 1 and count == (len(string.split(' '))):\n",
    "            print('hit')\n",
    "            print(mult, count)\n",
    "            py_string = _n.append(py_string, '*')\n",
    "        else:\n",
    "            pass\n",
    "        count += 1\n",
    "        py_string = _n.append(py_string, i)\n",
    "    final_string = s.join(py_string)\n",
    "    return final_string\n",
    "\n",
    "def python_to_mathematica(string):\n",
    "    for i in replace:\n",
    "        string = string.replace(str(i[1]),str(i[0]))\n",
    "    return string"
   ]
  },
  {
   "cell_type": "code",
   "execution_count": 5,
   "metadata": {
    "collapsed": true
   },
   "outputs": [],
   "source": [
    "test = 'Sqrt[2] + a b + E^(q s t x y z) = Q'"
   ]
  },
  {
   "cell_type": "code",
   "execution_count": 6,
   "metadata": {},
   "outputs": [
    {
     "data": {
      "text/plain": [
       "'_n.sqrt(2)+a*b+E**(q*s*t*x*y*z)=Q'"
      ]
     },
     "execution_count": 6,
     "metadata": {},
     "output_type": "execute_result"
    }
   ],
   "source": [
    "output = mathematica_to_python(test)\n",
    "output"
   ]
  },
  {
   "cell_type": "code",
   "execution_count": 7,
   "metadata": {},
   "outputs": [
    {
     "data": {
      "text/plain": [
       "'Sqrt[2]+a*b+E^[q*s*t*x*y*z]=Q'"
      ]
     },
     "execution_count": 7,
     "metadata": {},
     "output_type": "execute_result"
    }
   ],
   "source": [
    "python_to_mathematica(output)"
   ]
  }
 ],
 "metadata": {
  "kernelspec": {
   "display_name": "Python 3",
   "language": "python",
   "name": "python3"
  },
  "language_info": {
   "codemirror_mode": {
    "name": "ipython",
    "version": 3
   },
   "file_extension": ".py",
   "mimetype": "text/x-python",
   "name": "python",
   "nbconvert_exporter": "python",
   "pygments_lexer": "ipython3",
   "version": "3.6.8"
  }
 },
 "nbformat": 4,
 "nbformat_minor": 2
}
